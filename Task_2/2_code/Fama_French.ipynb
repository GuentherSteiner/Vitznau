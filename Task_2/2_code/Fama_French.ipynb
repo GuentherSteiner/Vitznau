{
 "cells": [
  {
   "cell_type": "code",
   "execution_count": 1,
   "metadata": {},
   "outputs": [
    {
     "name": "stderr",
     "output_type": "stream",
     "text": [
      "C:\\Users\\Corinne Vogel\\anaconda3\\lib\\site-packages\\statsmodels\\tsa\\base\\tsa_model.py:7: FutureWarning: pandas.Int64Index is deprecated and will be removed from pandas in a future version. Use pandas.Index with the appropriate dtype instead.\n",
      "  from pandas import (to_datetime, Int64Index, DatetimeIndex, Period,\n",
      "C:\\Users\\Corinne Vogel\\anaconda3\\lib\\site-packages\\statsmodels\\tsa\\base\\tsa_model.py:7: FutureWarning: pandas.Float64Index is deprecated and will be removed from pandas in a future version. Use pandas.Index with the appropriate dtype instead.\n",
      "  from pandas import (to_datetime, Int64Index, DatetimeIndex, Period,\n"
     ]
    }
   ],
   "source": [
    "import pandas as pd\n",
    "import numpy as np\n",
    "import statsmodels.api as sm\n",
    "import statsmodels.formula.api as smf"
   ]
  },
  {
   "cell_type": "code",
   "execution_count": 13,
   "metadata": {},
   "outputs": [
    {
     "name": "stdout",
     "output_type": "stream",
     "text": [
      "       Date  Mkt-RF   SMB   HML    RF\n",
      "102  199901   -0.43 -0.16 -2.07  0.35\n",
      "       Date  Mkt-RF   SMB   HML    RF\n",
      "114  200001   -7.12  9.39 -6.12  0.41\n",
      "115  200002    5.87  1.73 -9.50  0.43\n",
      "116  200003    0.66 -5.25  3.23  0.47\n",
      "117  200004   -5.58 -5.42  5.80  0.46\n",
      "118  200005   -0.07 -0.12  6.06  0.50\n",
      "       Date  Mkt-RF   SMB   HML    RF\n",
      "381  202204   -5.86 -1.34  2.64  0.00\n",
      "382  202205    1.27 -1.57  5.23  0.03\n",
      "383  202206  -10.32 -1.05 -2.46  0.06\n",
      "384  202207    5.26  0.62 -6.01  0.08\n",
      "385  202208   -6.68 -0.72  5.41  0.19\n",
      "     Date  Mkt-RF   SMB   HML    RF\n",
      "0  200001   -7.12  9.39 -6.12  0.41\n",
      "1  200002    5.87  1.73 -9.50  0.43\n",
      "2  200003    0.66 -5.25  3.23  0.47\n",
      "3  200004   -5.58 -5.42  5.80  0.46\n",
      "4  200005   -0.07 -0.12  6.06  0.50\n"
     ]
    }
   ],
   "source": [
    "#read data\n",
    "factorDF = pd.read_csv(\"Europe_3_Factors.csv\")\n",
    "#drop all rows until 1999\n",
    "print(factorDF.iloc[[102]]) #where date = 199901\n",
    "x = range(0,114)\n",
    "factorDF.drop(x, inplace=True)\n",
    "#check that the right data is inplace (01.2000 as start date)\n",
    "print(factorDF.head())\n",
    "print(factorDF.tail())\n",
    "\n",
    "#reset the index to 0-n\n",
    "factorDF.reset_index(inplace=True, drop=True)\n",
    "print(factorDF.head())"
   ]
  },
  {
   "cell_type": "code",
   "execution_count": 12,
   "metadata": {},
   "outputs": [
    {
     "name": "stdout",
     "output_type": "stream",
     "text": [
      "         Date  bench_ret   mom_ret  bench_indexed  mom_indexed\n",
      "0  2000-01-31  -0.049517  0.051075       0.950483     1.051075\n",
      "1  2000-02-29   0.067994  0.057946       1.067994     1.111980\n",
      "2  2000-03-31   0.029254 -0.052601       1.099237     1.053489\n",
      "3  2000-04-30   0.002649 -0.101531       1.102148     0.946528\n",
      "4  2000-05-31  -0.026562 -0.064189       1.072873     0.885771\n",
      "           Date  bench_ret   mom_ret  bench_indexed  mom_indexed\n",
      "268  2022-05-31  -0.014752  0.033120       1.166837     1.777977\n",
      "269  2022-06-30  -0.078505  0.027788       1.075234     1.827384\n",
      "270  2022-07-31   0.075240 -0.080138       1.156134     1.680941\n",
      "271  2022-08-31  -0.051596  0.043769       1.096482     1.754514\n",
      "272  2022-09-30  -0.063805  0.022544       1.026521     1.794067\n",
      "True\n"
     ]
    }
   ],
   "source": [
    "#we now have data from 200001 - 202209 (same as the profits from the momentum strategy)\n",
    "#next up we regress the excess returns of our momentum strategy against the betas extracted from French's website\n",
    "\n",
    "#first import the momentum and benchmark returns\n",
    "momBenchReturn = pd.read_csv(\"5_11_Return_bench_mom.csv\")\n",
    "\n",
    "#check the first and last rows of the momBenchReturn dataframe\n",
    "print(momBenchReturn.head())\n",
    "print(momBenchReturn.tail())\n",
    "\n",
    "\n",
    "#check whether they have the same length, i.e., same number of elements\n",
    "print(len(momBenchReturn.mom_ret) == len(momBenchReturn.bench_ret))\n",
    "    #outputs True"
   ]
  },
  {
   "cell_type": "code",
   "execution_count": 15,
   "metadata": {},
   "outputs": [
    {
     "name": "stdout",
     "output_type": "stream",
     "text": [
      "         Date  mom-benchmark  momentum_only\n",
      "0  2000-01-31       0.100592       0.051075\n",
      "1  2000-02-29      -0.010048       0.057946\n",
      "2  2000-03-31      -0.081854      -0.052601\n",
      "3  2000-04-30      -0.104180      -0.101531\n",
      "4  2000-05-31      -0.037627      -0.064189\n",
      "           Date  mom-benchmark  momentum_only\n",
      "267  2022-04-30       0.050410       0.039565\n",
      "268  2022-05-31       0.047872       0.033120\n",
      "269  2022-06-30       0.106294       0.027788\n",
      "270  2022-07-31      -0.155378      -0.080138\n",
      "271  2022-08-31       0.095365       0.043769\n"
     ]
    }
   ],
   "source": [
    "#create excess returns in a new dataframe\n",
    "excess_return = {\"Date\": [], \"mom-benchmark\": [], \"momentum_only\": []}\n",
    "for i in range(0, len(momBenchReturn.mom_ret)-1):\n",
    "    excess_return[\"Date\"].append(momBenchReturn.Date[i])\n",
    "    excess_return[\"mom-benchmark\"].append(momBenchReturn.mom_ret[i]-momBenchReturn.bench_ret[i])\n",
    "    excess_return[\"momentum_only\"].append(momBenchReturn.mom_ret[i])\n",
    "excess_return = pd.DataFrame(excess_return)\n",
    "#check the first elements, seems as if it has worked\n",
    "print(excess_return.head())\n",
    "print(excess_return.tail())\n",
    "#works like a charm until 2022-08 --> until then we have data form French"
   ]
  },
  {
   "cell_type": "code",
   "execution_count": 16,
   "metadata": {},
   "outputs": [],
   "source": [
    "#create a new DF with the excess return, the non-excess return and the factors inside\n",
    "regDF = {\"excessReturn\": excess_return[\"mom-benchmark\"], \"momReturn\": excess_return[\"momentum_only\"], \"MktRf\": factorDF[\"Mkt-RF\"], \"SMB\": factorDF[\"SMB\"], \n",
    "\"HML\": factorDF[\"HML\"], \"RF\": factorDF[\"RF\"]}"
   ]
  },
  {
   "cell_type": "code",
   "execution_count": 18,
   "metadata": {},
   "outputs": [
    {
     "name": "stdout",
     "output_type": "stream",
     "text": [
      "                            OLS Regression Results                            \n",
      "==============================================================================\n",
      "Dep. Variable:           excessReturn   R-squared:                       0.559\n",
      "Model:                            OLS   Adj. R-squared:                  0.553\n",
      "Method:                 Least Squares   F-statistic:                     84.66\n",
      "Date:                Thu, 10 Nov 2022   Prob (F-statistic):           2.48e-46\n",
      "Time:                        09:52:45   Log-Likelihood:                 471.38\n",
      "No. Observations:                 272   AIC:                            -932.8\n",
      "Df Residuals:                     267   BIC:                            -914.7\n",
      "Df Model:                           4                                         \n",
      "Covariance Type:            nonrobust                                         \n",
      "==============================================================================\n",
      "                 coef    std err          t      P>|t|      [0.025      0.975]\n",
      "------------------------------------------------------------------------------\n",
      "Intercept      0.0033      0.003      0.969      0.334      -0.003       0.010\n",
      "MktRf         -0.0087      0.001    -17.232      0.000      -0.010      -0.008\n",
      "SMB            0.0055      0.001      4.327      0.000       0.003       0.008\n",
      "HML           -0.0004      0.001     -0.468      0.640      -0.002       0.001\n",
      "RF             0.0054      0.018      0.297      0.767      -0.031       0.041\n",
      "==============================================================================\n",
      "Omnibus:                       20.816   Durbin-Watson:                   1.942\n",
      "Prob(Omnibus):                  0.000   Jarque-Bera (JB):               51.983\n",
      "Skew:                          -0.306   Prob(JB):                     5.15e-12\n",
      "Kurtosis:                       5.052   Cond. No.                         37.7\n",
      "==============================================================================\n",
      "\n",
      "Notes:\n",
      "[1] Standard Errors assume that the covariance matrix of the errors is correctly specified.\n"
     ]
    }
   ],
   "source": [
    "#now create the linear regression of these excess returns on the beta from the fama french\n",
    "regression = smf.ols('excessReturn ~ MktRf + SMB + HML + RF', data=regDF).fit()\n",
    "print(regression.summary())\n",
    "#the momentum strategy cannot be explained by most of the factors excluding the market factor which can\n",
    "#is significant"
   ]
  },
  {
   "cell_type": "code",
   "execution_count": 22,
   "metadata": {},
   "outputs": [
    {
     "name": "stdout",
     "output_type": "stream",
     "text": [
      "                            OLS Regression Results                            \n",
      "==============================================================================\n",
      "Dep. Variable:           excessReturn   R-squared:                       0.003\n",
      "Model:                            OLS   Adj. R-squared:                 -0.001\n",
      "Method:                 Least Squares   F-statistic:                    0.7177\n",
      "Date:                Thu, 10 Nov 2022   Prob (F-statistic):              0.398\n",
      "Time:                        09:56:40   Log-Likelihood:                 360.36\n",
      "No. Observations:                 272   AIC:                            -716.7\n",
      "Df Residuals:                     270   BIC:                            -709.5\n",
      "Df Model:                           1                                         \n",
      "Covariance Type:            nonrobust                                         \n",
      "==============================================================================\n",
      "                 coef    std err          t      P>|t|      [0.025      0.975]\n",
      "------------------------------------------------------------------------------\n",
      "Intercept     -0.0012      0.005     -0.231      0.817      -0.011       0.009\n",
      "RF             0.0225      0.027      0.847      0.398      -0.030       0.075\n",
      "==============================================================================\n",
      "Omnibus:                       21.939   Durbin-Watson:                   1.807\n",
      "Prob(Omnibus):                  0.000   Jarque-Bera (JB):               79.614\n",
      "Skew:                          -0.097   Prob(JB):                     5.15e-18\n",
      "Kurtosis:                       5.643   Cond. No.                         6.88\n",
      "==============================================================================\n",
      "\n",
      "Notes:\n",
      "[1] Standard Errors assume that the covariance matrix of the errors is correctly specified.\n"
     ]
    }
   ],
   "source": [
    "regression2 = smf.ols('excessReturn ~ RF', data=regDF).fit()\n",
    "print(regression2.summary())\n",
    "#if we look at the AIC we see that we have a better fit if we only take the MktRf to regress on excess return\n",
    "#log likelihood tiny bit less, but loss function is much higher in above model"
   ]
  },
  {
   "cell_type": "code",
   "execution_count": 21,
   "metadata": {},
   "outputs": [
    {
     "name": "stdout",
     "output_type": "stream",
     "text": [
      "                            OLS Regression Results                            \n",
      "==============================================================================\n",
      "Dep. Variable:              momReturn   R-squared:                       0.122\n",
      "Model:                            OLS   Adj. R-squared:                  0.108\n",
      "Method:                 Least Squares   F-statistic:                     9.234\n",
      "Date:                Thu, 10 Nov 2022   Prob (F-statistic):           5.30e-07\n",
      "Time:                        09:53:23   Log-Likelihood:                 545.38\n",
      "No. Observations:                 272   AIC:                            -1081.\n",
      "Df Residuals:                     267   BIC:                            -1063.\n",
      "Df Model:                           4                                         \n",
      "Covariance Type:            nonrobust                                         \n",
      "==============================================================================\n",
      "                 coef    std err          t      P>|t|      [0.025      0.975]\n",
      "------------------------------------------------------------------------------\n",
      "Intercept      0.0026      0.003      0.990      0.323      -0.003       0.008\n",
      "MktRf         -0.0018      0.000     -4.540      0.000      -0.003      -0.001\n",
      "SMB            0.0024      0.001      2.459      0.015       0.000       0.004\n",
      "HML           -0.0013      0.001     -1.874      0.062      -0.003    6.83e-05\n",
      "RF             0.0067      0.014      0.478      0.633      -0.021       0.034\n",
      "==============================================================================\n",
      "Omnibus:                       22.563   Durbin-Watson:                   1.962\n",
      "Prob(Omnibus):                  0.000   Jarque-Bera (JB):               41.888\n",
      "Skew:                          -0.462   Prob(JB):                     8.02e-10\n",
      "Kurtosis:                       4.686   Cond. No.                         37.7\n",
      "==============================================================================\n",
      "\n",
      "Notes:\n",
      "[1] Standard Errors assume that the covariance matrix of the errors is correctly specified.\n"
     ]
    }
   ],
   "source": [
    "#now create the linear regression of these non-excess returns on the beta from the fama french\n",
    "regression = smf.ols('momReturn ~ MktRf + SMB + HML + RF', data=regDF).fit()\n",
    "print(regression.summary())\n",
    "#the momentum strategy cannot be explained by most of the factors excluding the market factor which can\n",
    "#is significant"
   ]
  },
  {
   "cell_type": "code",
   "execution_count": null,
   "metadata": {},
   "outputs": [],
   "source": []
  }
 ],
 "metadata": {
  "kernelspec": {
   "display_name": "Python 3",
   "language": "python",
   "name": "python3"
  },
  "language_info": {
   "codemirror_mode": {
    "name": "ipython",
    "version": 3
   },
   "file_extension": ".py",
   "mimetype": "text/x-python",
   "name": "python",
   "nbconvert_exporter": "python",
   "pygments_lexer": "ipython3",
   "version": "3.8.5"
  }
 },
 "nbformat": 4,
 "nbformat_minor": 4
}
