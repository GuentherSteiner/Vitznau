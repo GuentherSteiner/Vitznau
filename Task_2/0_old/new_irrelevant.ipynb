{
 "cells": [
  {
   "cell_type": "markdown",
   "metadata": {},
   "source": [
    "# Load Packages"
   ]
  },
  {
   "cell_type": "code",
   "execution_count": 1,
   "metadata": {},
   "outputs": [],
   "source": [
    "#### Import required Packages ####\n",
    "import numpy as np\n",
    "import pandas as pd\n",
    "import seaborn as sb\n",
    "import datetime as dt\n",
    "import matplotlib.pyplot as plt\n",
    "from pandas.tseries.offsets import MonthEnd"
   ]
  },
  {
   "cell_type": "code",
   "execution_count": null,
   "metadata": {},
   "outputs": [],
   "source": [
    "# Seaborn\n",
    "sb.set_style(\"ticks\")\n",
    "sb.mpl.rc(\"figure\", figsize=(16,8))\n",
    "sb.mpl.rc(\"font\", size=14)\n",
    "plt.rcParams['xtick.direction'] = 'in'\n",
    "plt.rcParams['ytick.direction'] = 'in'"
   ]
  },
  {
   "cell_type": "markdown",
   "metadata": {},
   "source": [
    "# Load Data"
   ]
  },
  {
   "cell_type": "code",
   "execution_count": null,
   "metadata": {},
   "outputs": [],
   "source": [
    "# rawdata is direct import from excel\n",
    "\n",
    "# Import of excel data --> NEEDS TO BE CHANGED TO CORRECT DATA\n",
    "rawdata = pd.DataFrame(pd.read_excel(\"DataMomentumStrategy_TME.xlsx\"))\n",
    "rawdata.columns = [\"Trading_day\", \"Date\", \"MSCI_EU\", \"Healthcare\", \"Financials\", \"Consumer_staples\",\"Industrials\",\"Consumer_discretionary\",\"Materials\", \"Information_technology\", \"Energy\", \"Utilities\", \"Communication_services\",\"Real_estate\"]\n",
    "\n",
    "\n",
    "# Do all the clean up before translating to df and only work with this from now on\n",
    "df = rawdata\n",
    "dff = rawdata #create this variable to test the data_cleaner function"
   ]
  },
  {
   "cell_type": "code",
   "execution_count": null,
   "metadata": {},
   "outputs": [],
   "source": [
    "df"
   ]
  },
  {
   "cell_type": "code",
   "execution_count": null,
   "metadata": {},
   "outputs": [],
   "source": [
    "#create daily returns dataframe\n",
    "\n",
    "#safes columns which are used for the momentum PF as index\n",
    "mom_cols = df.columns[3:]\n",
    "#create empy dict which will later be converted to pd.DataFrame\n",
    "daily_return = {}\n",
    "#add all the daily returns into the daily_return dict\n",
    "length = len(df[mom_cols[1]])\n",
    "for i in mom_cols:\n",
    "    dret = []\n",
    "    for j in range(0,length-1):\n",
    "        dret.append(round(df[i][j]/df[i][j+1]-1, 4))\n",
    "    daily_return[i] = dret\n",
    "\n"
   ]
  },
  {
   "cell_type": "code",
   "execution_count": null,
   "metadata": {},
   "outputs": [],
   "source": [
    "#create the monthly cumulative performance\n",
    "cum_ret = {}\n",
    "\n",
    "#create list of months and years\n",
    "dates = []\n",
    "for i in df[\"Date\"]:\n",
    "    mon = i.month\n",
    "    year = i.year\n",
    "    dates.append([mon,year])\n",
    "print(dates)\n",
    "\n",
    "i = dates[0]\n",
    "while i != dates[-1]:\n",
    "    while\n",
    "\n",
    "for i in range(len(dates)):\n",
    "    if dates[i][0] == dates[i+1][0]:\n",
    "\n",
    "        "
   ]
  }
 ],
 "metadata": {
  "kernelspec": {
   "display_name": "Python 3",
   "language": "python",
   "name": "python3"
  },
  "language_info": {
   "codemirror_mode": {
    "name": "ipython",
    "version": 3
   },
   "file_extension": ".py",
   "mimetype": "text/x-python",
   "name": "python",
   "nbconvert_exporter": "python",
   "pygments_lexer": "ipython3",
   "version": "3.8.5"
  }
 },
 "nbformat": 4,
 "nbformat_minor": 4
}
