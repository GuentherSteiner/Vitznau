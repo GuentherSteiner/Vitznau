{
 "cells": [
  {
   "cell_type": "code",
   "execution_count": null,
   "metadata": {},
   "outputs": [],
   "source": [
    "### Task 3\n",
    "# Conduct a similar analysis for the returns on (i) a G10 carry trade strategy, (ii) a carry\n",
    "# trade strategy that includes emerging market currencies, (iii) a bond strategy that is\n",
    "# long duration, and (iv) a bond strategy that is long inflation-protected bonds and short\n",
    "# nominal bonds. You are not required to develop these strategies on your own; it is\n",
    "# sufficient if you obtain the returns on indices tracking them."
   ]
  },
  {
   "cell_type": "markdown",
   "metadata": {},
   "source": [
    "# LoadData"
   ]
  },
  {
   "cell_type": "code",
   "execution_count": null,
   "metadata": {},
   "outputs": [],
   "source": []
  },
  {
   "cell_type": "markdown",
   "metadata": {},
   "source": [
    "# Data Cleaning"
   ]
  },
  {
   "cell_type": "code",
   "execution_count": null,
   "metadata": {},
   "outputs": [],
   "source": []
  },
  {
   "cell_type": "markdown",
   "metadata": {},
   "source": [
    "# Predictive Regressions"
   ]
  },
  {
   "cell_type": "code",
   "execution_count": null,
   "metadata": {},
   "outputs": [],
   "source": [
    "# Use rule of thumn to calculate number of lags taken into consideration for newey-west HAC and round up\n",
    "print(0.75*len(df1)**(1/3))"
   ]
  },
  {
   "cell_type": "code",
   "execution_count": null,
   "metadata": {},
   "outputs": [],
   "source": [
    "# Segmented Regression for the first time frame, using Newey West HAC standard errors because of the autocorrelation and heteroscedasticity\n",
    "x = df1.loc[:,[\"MO\",\"ET_Dummy\"]]\n",
    "\n",
    "seg_model = sm.OLS(endog=df1.SARON, exog=sm.add_constant(x))\n",
    "result_seg = seg_model.fit(cov_type=\"HAC\",cov_kwds={\"maxlags\":6}) # Newey West SE with 6 lags\n",
    "result_seg.summary()\n",
    "\n",
    "# --> Ich hätti so e regression gmacht mit dere cov_type\"HAC\" machsch newey west SE und d lags chasch mit de formle usrechne damits d autocorrelation guet userechnet"
   ]
  }
 ],
 "metadata": {
  "kernelspec": {
   "display_name": "Python 3.9.6 64-bit",
   "language": "python",
   "name": "python3"
  },
  "language_info": {
   "name": "python",
   "version": "3.9.6"
  },
  "orig_nbformat": 4,
  "vscode": {
   "interpreter": {
    "hash": "31f2aee4e71d21fbe5cf8b01ff0e069b9275f58929596ceb00d14d90e3e16cd6"
   }
  }
 },
 "nbformat": 4,
 "nbformat_minor": 2
}
