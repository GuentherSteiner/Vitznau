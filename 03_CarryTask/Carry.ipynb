{
 "cells": [
  {
   "cell_type": "markdown",
   "metadata": {},
   "source": [
    "# Task Description"
   ]
  },
  {
   "cell_type": "code",
   "execution_count": null,
   "metadata": {},
   "outputs": [],
   "source": [
    "# The task would be to test a long-only stock-based carry/value strategy.\n",
    "\n",
    "# Carry strategy in stocks would be to long high dividend yield stocks and short the reverse (in this case no need to do short).\n",
    "# Whole value strategy you should be familiar with.\n",
    "\n",
    "# Carry trade in rate hike periods work pretty well (for fx especially). We are interested in whether the same hold for value. \n",
    "# The underlying assets would be S&P 500 stocks.\n",
    "\n",
    "# Please take into account that some companies do stock repurchase instead of cash dividend.\n",
    "# You could try to find adjusted dividend yield data. Time horizon is up to you, but keep in mind potential survivorship bias.\n",
    "# It might be interesting to check the strategy performance during different periods. \n",
    "# Remember to make the backtest a way that they could be implemented (not longing 100 stocks at the same time). \n",
    "# Have a nice night and good luck with your presentation on Monday."
   ]
  },
  {
   "cell_type": "markdown",
   "metadata": {},
   "source": [
    "# Setup"
   ]
  },
  {
   "cell_type": "markdown",
   "metadata": {},
   "source": [
    "## Load Packages"
   ]
  },
  {
   "cell_type": "code",
   "execution_count": 1,
   "metadata": {},
   "outputs": [
    {
     "name": "stderr",
     "output_type": "stream",
     "text": [
      "C:\\Users\\Corinne Vogel\\anaconda3\\lib\\site-packages\\statsmodels\\tsa\\base\\tsa_model.py:7: FutureWarning: pandas.Int64Index is deprecated and will be removed from pandas in a future version. Use pandas.Index with the appropriate dtype instead.\n",
      "  from pandas import (to_datetime, Int64Index, DatetimeIndex, Period,\n",
      "C:\\Users\\Corinne Vogel\\anaconda3\\lib\\site-packages\\statsmodels\\tsa\\base\\tsa_model.py:7: FutureWarning: pandas.Float64Index is deprecated and will be removed from pandas in a future version. Use pandas.Index with the appropriate dtype instead.\n",
      "  from pandas import (to_datetime, Int64Index, DatetimeIndex, Period,\n"
     ]
    }
   ],
   "source": [
    "#### Import required Packages ####\n",
    "import numpy as np\n",
    "import pandas as pd\n",
    "import seaborn as sb\n",
    "import matplotlib as mpl\n",
    "import matplotlib.pyplot as plt\n",
    "from matplotlib.dates import DateFormatter\n",
    "import scipy as sp\n",
    "import statsmodels.api as sm\n",
    "from sklearn.model_selection import train_test_split\n",
    "import sklearn as sk\n",
    "from sklearn.linear_model import LinearRegression\n",
    "from sklearn.metrics import mean_squared_error # to calculate the MSE\n",
    "from sklearn.model_selection import TimeSeriesSplit\n",
    "from sklearn.model_selection import cross_val_score\n",
    "\n",
    "from statsmodels.graphics.tsaplots import plot_acf # To produce ACF plots\n",
    "from statsmodels.graphics.tsaplots import plot_pacf # To produce PACF plots\n",
    "from statsmodels.tsa.seasonal import seasonal_decompose # To decompose Seasons\n",
    "from statsmodels.tsa.stattools import adfuller, kpss # Tests for Stationarity\n",
    "from statsmodels.tsa.ar_model import AutoReg # To produce AR models\n",
    "from statsmodels.stats.anova import anova_lm # To use ANOVA (compare nested models)\n",
    "from statsmodels.tsa.arima.model import ARIMA # To build ARMA & ARIMA Models\n",
    "import statsmodels.stats.diagnostic as dg # To get Breusch-Godfrey Test\n",
    "from statsmodels.stats.stattools import durbin_watson\n",
    "\n",
    "\n",
    "\n",
    "from datetime import datetime # to transform variables into datetime objects\n",
    "import math # simple math functions\n",
    "from math import sqrt # square root function\n",
    "import statistics # descriptive statistics library\n",
    "import scipy.stats as stats # descriptive statistics library from scipy\n",
    "import matplotlib.dates as mdates # date formatting\n",
    "from matplotlib.collections import PolyCollection, LineCollection # better plot options"
   ]
  },
  {
   "cell_type": "markdown",
   "metadata": {},
   "source": [
    "## Plotstyle"
   ]
  },
  {
   "cell_type": "code",
   "execution_count": null,
   "metadata": {},
   "outputs": [],
   "source": [
    "# Seaborn plot style ticks to have nicer looking plots\n",
    "sb.set_style(\"ticks\")\n",
    "sb.mpl.rc(\"figure\", figsize=(16,8))\n",
    "sb.mpl.rc(\"font\", size=14)\n",
    "plt.rcParams['xtick.direction'] = 'in'\n",
    "plt.rcParams['ytick.direction'] = 'in'"
   ]
  },
  {
   "cell_type": "markdown",
   "metadata": {},
   "source": [
    "## LoadData"
   ]
  },
  {
   "cell_type": "code",
   "execution_count": 2,
   "metadata": {},
   "outputs": [],
   "source": [
    "# Loading Data (takes some time)\n",
    "\n",
    "div = pd.read_excel(\"02_Data_clean/SPX_div_clean_Nick.xlsx\", parse_dates=[\"Date\"])\n",
    "ret = pd.read_excel(\"02_Data_clean/SPX_px_clean_Nick.xlsx\", parse_dates=[\"Date\"])\n",
    "\n",
    "# Check\n",
    "# print(type(div))\n",
    "# print(div.dtypes)\n",
    "# print(type(ret))\n",
    "# print(ret.dtypes)"
   ]
  },
  {
   "cell_type": "code",
   "execution_count": 3,
   "metadata": {},
   "outputs": [],
   "source": [
    "# set date columns as indices\n",
    "\n",
    "ret.set_index(['Date'], inplace = True)\n",
    "#ret.head()\n",
    "\n",
    "# Resample monthly returns (takes some time)\n",
    "mtl_ret = ret.pct_change().resample(\"M\").agg(lambda x: ((1+x).prod()-1)) # pct_change creates ordinary returns, resample Monthly and aggregating with the (1+x) -1 formula to get monthly ordinary returns\n",
    "\n",
    "# df = pd.concat([data, data2], axis=1) # concating dfs\n",
    "# data.set_index(\"Date\", inplace=True) # set datetimeindex"
   ]
  },
  {
   "cell_type": "markdown",
   "metadata": {},
   "source": [
    "## Sorting the signal"
   ]
  },
  {
   "cell_type": "code",
   "execution_count": null,
   "metadata": {},
   "outputs": [],
   "source": [
    "# in a first step we create a dataframe which we will fill with the weights of the carry strategy each month\n",
    "### Important ### for carry we should use the (expected) dividend yield minus the riskfree ### Important ###\n",
    "divv = div\n",
    "cols = (divv.columns[1:])\n",
    "rows = divv.iloc[:,0]\n",
    "\n",
    "weights = pd.DataFrame(index = rows, columns = (cols))\n",
    "weights = weights.resample(\"M\").mean()"
   ]
  },
  {
   "cell_type": "code",
   "execution_count": null,
   "metadata": {},
   "outputs": [],
   "source": [
    "weights"
   ]
  },
  {
   "cell_type": "code",
   "execution_count": null,
   "metadata": {},
   "outputs": [],
   "source": [
    "# the approach is as follows: \n",
    "# 1. take a moving average of the 12 month previous carry signal, ignoring the most recent month\n",
    "# 2. for each month calculate the 10 stocks considered for the long strategy\n",
    "# 3. calculate the PF return\n",
    "# 4. take into account the transaction costs\n",
    "\n",
    "div = div.set_index(['Date'])"
   ]
  },
  {
   "cell_type": "code",
   "execution_count": null,
   "metadata": {},
   "outputs": [],
   "source": [
    "# resample the data monthly and take the avg of the div yield\n",
    "\n",
    "div = div.resample('M').mean()\n",
    "#div"
   ]
  },
  {
   "cell_type": "code",
   "execution_count": null,
   "metadata": {},
   "outputs": [],
   "source": [
    "# 1. take a moving average of the 12 month previous carry signal, ignoring the most recent month\n",
    "\n",
    "# omitted at first for simpler calculations"
   ]
  },
  {
   "cell_type": "code",
   "execution_count": null,
   "metadata": {},
   "outputs": [],
   "source": [
    "# 2. for each month calculate the 10 stocks considered for the long strategy (takes some time)\n",
    "\n",
    "for i in div.index:\n",
    "    x = div.loc[i,:].nlargest(10)\n",
    "    for j in div.columns:\n",
    "        if j in x.index:\n",
    "            weights.loc[i,j] = 0.1\n",
    "        else:\n",
    "            weights.loc[i,j] = 0\n",
    "weights"
   ]
  },
  {
   "cell_type": "markdown",
   "metadata": {},
   "source": [
    "## Return calculation"
   ]
  },
  {
   "cell_type": "code",
   "execution_count": null,
   "metadata": {},
   "outputs": [],
   "source": [
    "# in a first step we create a dataframe which we will fill with the weighted returns of the carry strategy each month\n",
    "\n",
    "weighted_ret = weights"
   ]
  },
  {
   "cell_type": "code",
   "execution_count": null,
   "metadata": {},
   "outputs": [],
   "source": [
    "for i in weighted_ret.index:\n",
    "    for j in weighted_ret.columns:\n",
    "        weighted_ret.loc[i,j] = weighted_ret.loc[i,j]*mtl_ret.loc[i,j]\n",
    "        \n",
    "weighted_ret['PF_ret'] = 0\n",
    "weighted_ret"
   ]
  },
  {
   "cell_type": "code",
   "execution_count": null,
   "metadata": {},
   "outputs": [],
   "source": [
    "# now we sum over each row to calculate the PF return and put it in the respective columns\n",
    "\n",
    "for i in weighted_ret.index:\n",
    "    weighted_ret.loc[i,'PF_ret'] = weighted_ret.loc[i,:].sum()\n",
    "\n",
    "weighted_ret"
   ]
  },
  {
   "cell_type": "code",
   "execution_count": null,
   "metadata": {},
   "outputs": [],
   "source": [
    "weighted_ret['PF_ret'].agg(lambda x: ((1+x).prod()-1))"
   ]
  },
  {
   "cell_type": "code",
   "execution_count": null,
   "metadata": {},
   "outputs": [],
   "source": [
    "sb.ecdfplot(x = weighted_ret['PF_ret'])"
   ]
  },
  {
   "cell_type": "markdown",
   "metadata": {},
   "source": [
    "# Approach 2 --> running 12-month avg of carry signal --> weekly rebalance"
   ]
  },
  {
   "cell_type": "code",
   "execution_count": null,
   "metadata": {},
   "outputs": [],
   "source": [
    "# the approach is as follows: \n",
    "# 1. take a moving average of the 12 month previous carry signal, ignoring the most recent month\n",
    "# 2. for each month calculate the 10 stocks considered for the long strategy\n",
    "# 3. calculate the PF return\n",
    "# 4. take into account the transaction costs"
   ]
  },
  {
   "cell_type": "code",
   "execution_count": 4,
   "metadata": {},
   "outputs": [],
   "source": [
    "# Loading Data (takes some time)\n",
    "\n",
    "div = pd.read_excel(\"02_Data_clean/SPX_div_clean_Nick.xlsx\", parse_dates=[\"Date\"])\n",
    "ret = pd.read_excel(\"02_Data_clean/SPX_px_clean_Nick.xlsx\", parse_dates=[\"Date\"])\n",
    "\n",
    "# safe the div as divv in case we need it later\n",
    "divv = div \n",
    "\n",
    "# reset the index to be a date\n",
    "div = div.set_index(['Date'])\n",
    "ret = ret.set_index(['Date'])\n",
    "\n",
    "# Check\n",
    "# print(type(div))\n",
    "# print(div.dtypes)\n",
    "# print(type(ret))\n",
    "# print(ret.dtypes)"
   ]
  },
  {
   "cell_type": "code",
   "execution_count": 7,
   "metadata": {},
   "outputs": [],
   "source": [
    "# create 12-month running avg of carry signal (i.e., div yield) \n",
    "\n",
    "#### insert lag ####\n",
    "for i in range(52, len(div.index)):\n",
    "    x = div.iloc[i-52:i,:].mean()\n",
    "    div.iloc[i,:] = x\n"
   ]
  },
  {
   "cell_type": "code",
   "execution_count": 12,
   "metadata": {},
   "outputs": [],
   "source": [
    "# in a first step we create a dataframe which we will fill with the weights of the carry strategy each month\n",
    "### Important ### for carry we should use the (expected) dividend yield minus the riskfree ### Important ###\n",
    "cols = divv.columns[1:]\n",
    "rows = divv.iloc[:,0]\n",
    "\n",
    "weights = pd.DataFrame(index = rows, columns = (cols))"
   ]
  },
  {
   "cell_type": "code",
   "execution_count": null,
   "metadata": {},
   "outputs": [],
   "source": [
    "# create weights dataframe\n",
    "\n",
    "for i in div.index:\n",
    "    x = div.loc[i,:].nlargest(10)\n",
    "    for j in div.columns:\n",
    "        if j in x.index:\n",
    "            weights.loc[i,j] = 0.1\n",
    "        else:\n",
    "            weights.loc[i,j] = 0\n",
    "\n",
    "weighted_ret = weights\n",
    "weights"
   ]
  },
  {
   "cell_type": "code",
   "execution_count": null,
   "metadata": {},
   "outputs": [],
   "source": [
    "# calculate PF returns (takes ages)\n",
    "\n",
    "for i in weighted_ret.index[52:]:\n",
    "    for j in weighted_ret.columns:\n",
    "        weighted_ret.loc[i,j] = weighted_ret.loc[i,j]*ret.loc[i,j]\n",
    "        \n",
    "weighted_ret['PF_ret'] = 0\n",
    "weighted_ret\n",
    "\n",
    "# first 52 weeks have no return calculated since they are only used for PF weights creation in 2000-12"
   ]
  },
  {
   "cell_type": "code",
   "execution_count": null,
   "metadata": {},
   "outputs": [],
   "source": [
    "# now we sum over each row to calculate the PF return and put it in the respective columns\n",
    "\n",
    "for i in weighted_ret.index[52:]:\n",
    "    weighted_ret.loc[i,'PF_ret'] = weighted_ret.loc[i,:].sum()\n",
    "\n",
    "weighted_ret"
   ]
  },
  {
   "cell_type": "code",
   "execution_count": null,
   "metadata": {},
   "outputs": [],
   "source": [
    "weighted_ret['PF_ret'].agg(lambda x: ((1+x).prod()-1))"
   ]
  },
  {
   "cell_type": "code",
   "execution_count": null,
   "metadata": {},
   "outputs": [],
   "source": [
    "x = [i for i in weighted_ret['PF_ret'] if i > 0.05]"
   ]
  },
  {
   "cell_type": "code",
   "execution_count": null,
   "metadata": {},
   "outputs": [],
   "source": [
    "y = [i for i in weighted_ret['PF_ret'] if i < -0.05]"
   ]
  },
  {
   "cell_type": "code",
   "execution_count": null,
   "metadata": {},
   "outputs": [],
   "source": [
    "sb.scatterplot(y = weighted_ret['PF_ret'], x = weighted_ret.index, s = 5)"
   ]
  },
  {
   "cell_type": "code",
   "execution_count": null,
   "metadata": {},
   "outputs": [],
   "source": [
    "sb.lineplot(y = weighted_ret['PF_ret'], x = weighted_ret.index)"
   ]
  },
  {
   "cell_type": "code",
   "execution_count": null,
   "metadata": {},
   "outputs": [],
   "source": [
    "x = 1\n",
    "for i in weighted_ret['PF_ret']:\n",
    "    #print(i)\n",
    "    x = (1+i)*x\n",
    "PF_return_annual = (x**(1/20))-1\n",
    "\n",
    "# yielding an annual return of 10%"
   ]
  },
  {
   "cell_type": "code",
   "execution_count": null,
   "metadata": {},
   "outputs": [],
   "source": [
    "PF_mean = weighted_ret['PF_ret'].mean()"
   ]
  },
  {
   "cell_type": "code",
   "execution_count": null,
   "metadata": {},
   "outputs": [],
   "source": [
    "PF_std = weighted_ret['PF_ret'].std() * (52)**0.5"
   ]
  },
  {
   "cell_type": "code",
   "execution_count": null,
   "metadata": {},
   "outputs": [],
   "source": [
    "(PF_return_annual - 0.01)/PF_std"
   ]
  },
  {
   "cell_type": "markdown",
   "metadata": {},
   "source": [
    "# Approach 3 --> running 12-month avg of carry signal --> monthly rebalanced"
   ]
  },
  {
   "cell_type": "code",
   "execution_count": null,
   "metadata": {},
   "outputs": [],
   "source": []
  },
  {
   "cell_type": "code",
   "execution_count": null,
   "metadata": {},
   "outputs": [],
   "source": []
  },
  {
   "cell_type": "code",
   "execution_count": null,
   "metadata": {},
   "outputs": [],
   "source": []
  },
  {
   "cell_type": "code",
   "execution_count": null,
   "metadata": {},
   "outputs": [],
   "source": []
  },
  {
   "cell_type": "code",
   "execution_count": null,
   "metadata": {},
   "outputs": [],
   "source": []
  },
  {
   "cell_type": "code",
   "execution_count": null,
   "metadata": {},
   "outputs": [],
   "source": []
  },
  {
   "cell_type": "code",
   "execution_count": null,
   "metadata": {},
   "outputs": [],
   "source": []
  },
  {
   "cell_type": "code",
   "execution_count": null,
   "metadata": {},
   "outputs": [],
   "source": []
  },
  {
   "cell_type": "code",
   "execution_count": null,
   "metadata": {},
   "outputs": [],
   "source": []
  },
  {
   "cell_type": "code",
   "execution_count": null,
   "metadata": {},
   "outputs": [],
   "source": []
  }
 ],
 "metadata": {
  "kernelspec": {
   "display_name": "Python 3",
   "language": "python",
   "name": "python3"
  },
  "language_info": {
   "codemirror_mode": {
    "name": "ipython",
    "version": 3
   },
   "file_extension": ".py",
   "mimetype": "text/x-python",
   "name": "python",
   "nbconvert_exporter": "python",
   "pygments_lexer": "ipython3",
   "version": "3.8.5"
  },
  "vscode": {
   "interpreter": {
    "hash": "aa336b74a8cbeead930f17f553be49714fc6c4491fbee50d1179d377ec590ae0"
   }
  }
 },
 "nbformat": 4,
 "nbformat_minor": 2
}
